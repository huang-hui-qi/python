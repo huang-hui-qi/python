{
  "nbformat": 4,
  "nbformat_minor": 0,
  "metadata": {
    "colab": {
      "name": "98_381.ipynb",
      "provenance": [],
      "collapsed_sections": []
    },
    "kernelspec": {
      "name": "python3",
      "display_name": "Python 3"
    },
    "language_info": {
      "name": "python"
    }
  },
  "cells": [
    {
      "cell_type": "code",
      "metadata": {
        "colab": {
          "base_uri": "https://localhost:8080/"
        },
        "id": "J1B7vI5RZK_3",
        "outputId": "d9aa5438-8729-4df9-af92-834ecf825a00"
      },
      "source": [
        "# 1\n",
        "# list\n",
        "\n",
        "list_1=['a', 'b', 'c']\n",
        "list_2=['d', 'e', 'f']\n",
        "list_3=list_1 + list_2\n",
        "list_4= list_3 * 2\n",
        "print(list_4)"
      ],
      "execution_count": null,
      "outputs": [
        {
          "output_type": "stream",
          "text": [
            "['a', 'b', 'c', 'd', 'e', 'f', 'a', 'b', 'c', 'd', 'e', 'f']\n"
          ],
          "name": "stdout"
        }
      ]
    },
    {
      "cell_type": "code",
      "metadata": {
        "colab": {
          "base_uri": "https://localhost:8080/"
        },
        "id": "NsOMwNLhazmK",
        "outputId": "0ed3ee8b-4870-41fd-e0c4-90bc1b79b4dd"
      },
      "source": [
        "# 2\n",
        "# (變數型別的計算)\n",
        "# eval函式的輸入是\"字串str\"型態的數學式，回傳則是數學式計算的結果\n",
        "\n",
        "car_dist= float(eval(input(\"請輸入以公里為單位的行駛距離：\")))\n",
        "run_hour= int(eval(input(\"請輸入經過的小時數：\")))\n",
        "run_min= int(eval(input(\"請輸入經過的分鐘：\")))\n",
        "run_time= run_hour + run_min/60\n",
        "car_speed= car_dist / run_time\n",
        "print(\"汽車的時速是：\", car_speed, \"km/hr\")"
      ],
      "execution_count": null,
      "outputs": [
        {
          "output_type": "stream",
          "text": [
            "請輸入以公里為單位的行駛距離：10\n",
            "請輸入經過的小時數：1\n",
            "請輸入經過的分鐘：10\n",
            "汽車的時速是： 8.571428571428571 km/hr\n"
          ],
          "name": "stdout"
        }
      ]
    },
    {
      "cell_type": "code",
      "metadata": {
        "id": "lw8KFslEbMZM"
      },
      "source": [
        "# 3\n",
        "# (變數型別與運算元的應用)\n",
        "# / : 除法\n",
        "# //: 除法取整數\n",
        "# **: 次方"
      ],
      "execution_count": null,
      "outputs": []
    },
    {
      "cell_type": "code",
      "metadata": {
        "colab": {
          "base_uri": "https://localhost:8080/"
        },
        "id": "nWmBCeFHbfA0",
        "outputId": "53e856f1-2c51-4f02-ddf4-f8b56326e993"
      },
      "source": [
        "# 4\n",
        "# 變數\n",
        "\n",
        "age=12\n",
        "minor=False\n",
        "name=\"David\"\n",
        "weight=64.5\n",
        "zip = \"545\"\n",
        "print(type(age), type(minor), type(name), type(weight), type(zip))"
      ],
      "execution_count": null,
      "outputs": [
        {
          "output_type": "stream",
          "text": [
            "<class 'int'> <class 'bool'> <class 'str'> <class 'float'> <class 'str'>\n"
          ],
          "name": "stdout"
        }
      ]
    },
    {
      "cell_type": "code",
      "metadata": {
        "colab": {
          "base_uri": "https://localhost:8080/"
        },
        "id": "j8tpChrTby8l",
        "outputId": "080b3d67-ac72-4e7d-c00c-07e6155ffb05"
      },
      "source": [
        "# 5\n",
        "# 變數\n",
        "\n",
        "TC=input(\"請輸入攝氏溫度：\")\n",
        "TF=eval(TC) * (9/5) + 32\n",
        "message = \"攝氏\" + TC + \"度等於華氏\" + str(TF) + \"度\"\n",
        "print(message)\n",
        "print(type(TC), type(TF), type(message))"
      ],
      "execution_count": null,
      "outputs": [
        {
          "output_type": "stream",
          "text": [
            "請輸入攝氏溫度：36\n",
            "攝氏36度等於華氏96.8度\n",
            "<class 'str'> <class 'float'> <class 'str'>\n"
          ],
          "name": "stdout"
        }
      ]
    },
    {
      "cell_type": "code",
      "metadata": {
        "colab": {
          "base_uri": "https://localhost:8080/"
        },
        "id": "zsR5L6lRb_B-",
        "outputId": "881a7992-08c7-4479-83df-beac8591cae7"
      },
      "source": [
        "# 6\n",
        "#　變數運算\n",
        "\n",
        "x1=\"0\"\n",
        "y1=4\n",
        "a=x1*y1\n",
        "print(a, type(a))\n",
        "x2=8\n",
        "y2=4\n",
        "b=x2/y2\n",
        "print(b, type(b))\n",
        "x3=10.5\n",
        "y3=1\n",
        "c=x3/y3\n",
        "print(c, type(c))"
      ],
      "execution_count": null,
      "outputs": [
        {
          "output_type": "stream",
          "text": [
            "0000 <class 'str'>\n",
            "2.0 <class 'float'>\n",
            "10.5 <class 'float'>\n"
          ],
          "name": "stdout"
        }
      ]
    },
    {
      "cell_type": "code",
      "metadata": {
        "colab": {
          "base_uri": "https://localhost:8080/"
        },
        "id": "NGFb7GOncIJ6",
        "outputId": "025ab80a-49f2-4c84-d1c7-d4cbe74ae5bc"
      },
      "source": [
        "# ７\n",
        "#　變數型別\n",
        "\n",
        "print(type(1.0), type(+1E-10), type(\"False\"), type(True))"
      ],
      "execution_count": null,
      "outputs": [
        {
          "output_type": "stream",
          "text": [
            "<class 'float'> <class 'float'> <class 'str'> <class 'bool'>\n"
          ],
          "name": "stdout"
        }
      ]
    },
    {
      "cell_type": "code",
      "metadata": {
        "colab": {
          "base_uri": "https://localhost:8080/"
        },
        "id": "9_rpueincfJb",
        "outputId": "07456cde-b641-4f2f-f09e-702070b620e0"
      },
      "source": [
        "# ８\n",
        "# dict應用\n",
        "# input輸入型別\n",
        "\n",
        "products = {1: '鉛筆', 2: '橡皮擦'}\n",
        "id=int(input('輸入產品編號：')) #題目少了int()))\n",
        "if not id in products:\n",
        "  print('該產品並不存在')\n",
        "else:\n",
        "  print(\"產品名稱為：\"+ products[id])"
      ],
      "execution_count": null,
      "outputs": [
        {
          "output_type": "stream",
          "text": [
            "輸入產品編號：1\n",
            "產品名稱為：鉛筆\n"
          ],
          "name": "stdout"
        }
      ]
    },
    {
      "cell_type": "code",
      "metadata": {
        "colab": {
          "base_uri": "https://localhost:8080/"
        },
        "id": "0NJ4pc1cc3B2",
        "outputId": "c4886dbc-0913-4814-f40f-980a4b47d2ee"
      },
      "source": [
        "# 9\n",
        "# 變數型別\n",
        "\n",
        "print(type(5))\n",
        "print(type(8.0))\n",
        "print(type(\"True\"))\n",
        "print(type(False))"
      ],
      "execution_count": null,
      "outputs": [
        {
          "output_type": "stream",
          "text": [
            "<class 'int'>\n",
            "<class 'float'>\n",
            "<class 'str'>\n",
            "<class 'bool'>\n"
          ],
          "name": "stdout"
        }
      ]
    },
    {
      "cell_type": "code",
      "metadata": {
        "colab": {
          "base_uri": "https://localhost:8080/"
        },
        "id": "3mjPi03KdBdj",
        "outputId": "0912cf27-fc33-4237-ab96-964c3c6fdd54"
      },
      "source": [
        "# 10\n",
        "# 型別轉換應用\n",
        "\n",
        "#total = int(input(\"請輸入總數?\")) #原來題本程式有錯誤\n",
        "total = eval(input(\"請輸入總數?\"))\n",
        "total = int(total)\n",
        "print(total, type(total))"
      ],
      "execution_count": null,
      "outputs": [
        {
          "output_type": "stream",
          "text": [
            "請輸入總數?10.1\n",
            "10 <class 'int'>\n"
          ],
          "name": "stdout"
        }
      ]
    },
    {
      "cell_type": "code",
      "metadata": {
        "colab": {
          "base_uri": "https://localhost:8080/"
        },
        "id": "vPgFoWuZdgbj",
        "outputId": "9ddec9f0-4f3b-48ed-c355-409552a621f9"
      },
      "source": [
        "# 11\n",
        "\n",
        "def reverse_str(oStr):\n",
        "  reStr=\"\"\n",
        "  for index in range(len(oStr)-1, -1, -1): #(1)\n",
        "    reStr += oStr[index] #(2)\n",
        "  return reStr\n",
        "print(reverse_str(\"This is book\"))"
      ],
      "execution_count": null,
      "outputs": [
        {
          "output_type": "stream",
          "text": [
            "koob si sihT\n"
          ],
          "name": "stdout"
        }
      ]
    },
    {
      "cell_type": "code",
      "metadata": {
        "colab": {
          "base_uri": "https://localhost:8080/"
        },
        "id": "eFPvvbqDeZuC",
        "outputId": "97af12bf-9137-411d-ccaa-d209a7d9cd3d"
      },
      "source": [
        "# 12\n",
        "# 型別轉換\n",
        "\n",
        "time_start = input(\"早上上班時間是幾點?\")\n",
        "time_end = input(\"下午下班時間是幾點?\")\n",
        "print(\"本日上班時間：\"+ str(int(time_end)-int(time_start))+\"小時\")"
      ],
      "execution_count": null,
      "outputs": [
        {
          "output_type": "stream",
          "text": [
            "早上上班時間是幾點?8\n",
            "下午下班時間是幾點?17\n",
            "本日上班時間：9小時\n"
          ],
          "name": "stdout"
        }
      ]
    },
    {
      "cell_type": "code",
      "metadata": {
        "colab": {
          "base_uri": "https://localhost:8080/"
        },
        "id": "H5noRnXdfAky",
        "outputId": "6ae68d98-7a80-40ab-f33a-9f8aeb53b6f6"
      },
      "source": [
        "# 13\n",
        "# 字串取值\n",
        "\n",
        "astr=\"abcdefghijklmnopqrstuvwxyz\"\n",
        "print(astr[5:20])\n",
        "print(astr[5:20:3])\n",
        "print(astr[20:5:-3])\n",
        "print(astr[::-3])\n",
        "print(astr[3:15:-1]) #印空值"
      ],
      "execution_count": null,
      "outputs": [
        {
          "output_type": "stream",
          "text": [
            "fghijklmnopqrst\n",
            "filor\n",
            "uroli\n",
            "zwtqnkheb\n",
            "\n"
          ],
          "name": "stdout"
        }
      ]
    },
    {
      "cell_type": "code",
      "metadata": {
        "colab": {
          "base_uri": "https://localhost:8080/"
        },
        "id": "XWM47oK9fRWS",
        "outputId": "79511e50-1618-4aa6-87c1-b883d827cbab"
      },
      "source": [
        "# 14\n",
        "# list取值\n",
        "\n",
        "members=list(range(1,51))\n",
        "print(members)\n",
        "#print(member[-5:0])   #A，無法執行\n",
        "print(members[0:-5])   #B，1~45\n",
        "#members[1:-5      #C，無法執行，因為沒有]\n",
        "print(members[:-5])   #D，1~45\n",
        "print(members[1:5])   #E 2，3，4，5"
      ],
      "execution_count": null,
      "outputs": [
        {
          "output_type": "stream",
          "text": [
            "[1, 2, 3, 4, 5, 6, 7, 8, 9, 10, 11, 12, 13, 14, 15, 16, 17, 18, 19, 20, 21, 22, 23, 24, 25, 26, 27, 28, 29, 30, 31, 32, 33, 34, 35, 36, 37, 38, 39, 40, 41, 42, 43, 44, 45, 46, 47, 48, 49, 50]\n",
            "[1, 2, 3, 4, 5, 6, 7, 8, 9, 10, 11, 12, 13, 14, 15, 16, 17, 18, 19, 20, 21, 22, 23, 24, 25, 26, 27, 28, 29, 30, 31, 32, 33, 34, 35, 36, 37, 38, 39, 40, 41, 42, 43, 44, 45]\n",
            "[1, 2, 3, 4, 5, 6, 7, 8, 9, 10, 11, 12, 13, 14, 15, 16, 17, 18, 19, 20, 21, 22, 23, 24, 25, 26, 27, 28, 29, 30, 31, 32, 33, 34, 35, 36, 37, 38, 39, 40, 41, 42, 43, 44, 45]\n",
            "[2, 3, 4, 5]\n"
          ],
          "name": "stdout"
        }
      ]
    },
    {
      "cell_type": "code",
      "metadata": {
        "colab": {
          "base_uri": "https://localhost:8080/"
        },
        "id": "dts1nWfggOqu",
        "outputId": "e0fab425-bbd5-4934-d248-054945788e29"
      },
      "source": [
        "# 15\n",
        "# list取值\n",
        "# 本題要取出星期2,星期4,星期6\n",
        "\n",
        "weeks=[1,2,3,4,5,6,7]\n",
        "print(weeks[2:2])\n",
        "print(weeks[::2])\n",
        "print(weeks[1::2])\n",
        "print(weeks[1:2])"
      ],
      "execution_count": null,
      "outputs": [
        {
          "output_type": "stream",
          "text": [
            "[]\n",
            "[1, 3, 5, 7]\n",
            "[2, 4, 6]\n",
            "[2]\n"
          ],
          "name": "stdout"
        }
      ]
    },
    {
      "cell_type": "code",
      "metadata": {
        "colab": {
          "base_uri": "https://localhost:8080/"
        },
        "id": "on6uO1hmglsL",
        "outputId": "99db6d1b-164e-4d7b-c836-037234e98ea5"
      },
      "source": [
        "# 16\n",
        "# 算式\n",
        "\n",
        "x=eval(input(\"輸入一個數字：\"))\n",
        "y=(x+7)**2\n",
        "print(y)"
      ],
      "execution_count": null,
      "outputs": [
        {
          "output_type": "stream",
          "text": [
            "輸入一個數字：10\n",
            "289\n"
          ],
          "name": "stdout"
        }
      ]
    },
    {
      "cell_type": "code",
      "metadata": {
        "colab": {
          "base_uri": "https://localhost:8080/"
        },
        "id": "qsLwEcQRgws5",
        "outputId": "f2441eed-c940-40fe-8e40-56534aa2d595"
      },
      "source": [
        "# 17\n",
        "# not的應用\n",
        "\n",
        "def get_discount(kid, girl):\n",
        "  discount = 0.2\n",
        "  if not (kid or girl):\n",
        "    discount=0\n",
        "  return discount\n",
        "\n",
        "print(\"discount=\", get_discount(True,False))"
      ],
      "execution_count": null,
      "outputs": [
        {
          "output_type": "stream",
          "text": [
            "discount= 0.2\n"
          ],
          "name": "stdout"
        }
      ]
    },
    {
      "cell_type": "code",
      "metadata": {
        "colab": {
          "base_uri": "https://localhost:8080/"
        },
        "id": "PhMtscOAhAwn",
        "outputId": "cd1c7e99-0110-4249-e6c4-34d385e16e2c"
      },
      "source": [
        "# 18\n",
        "# Bool的應用\n",
        "\n",
        "print(0 or 2)\n",
        "print(bool()) #轉換bool型態，沒參數回傳False\n",
        "print(None == None)\n",
        "print(-2<0<2)"
      ],
      "execution_count": null,
      "outputs": [
        {
          "output_type": "stream",
          "text": [
            "2\n",
            "False\n",
            "True\n",
            "True\n"
          ],
          "name": "stdout"
        }
      ]
    },
    {
      "cell_type": "code",
      "metadata": {
        "colab": {
          "base_uri": "https://localhost:8080/"
        },
        "id": "XDztDvNJhHYt",
        "outputId": "681247e5-466f-4c7a-e482-cf1c9e4aab4e"
      },
      "source": [
        "# 19\n",
        "# 運算子優先順序\n",
        "\n",
        "print((5*(1+2)**2-3+4/2))"
      ],
      "execution_count": null,
      "outputs": [
        {
          "output_type": "stream",
          "text": [
            "44.0\n"
          ],
          "name": "stdout"
        }
      ]
    },
    {
      "cell_type": "code",
      "metadata": {
        "colab": {
          "base_uri": "https://localhost:8080/"
        },
        "id": "yZT44dCuhUUn",
        "outputId": "65036fcd-6611-4034-9946-f09325e268d2"
      },
      "source": [
        "# 20\n",
        "# 變數應用\n",
        "\n",
        "a='Apple'\n",
        "print(a)\n",
        "b='Banana'\n",
        "a+=b\n",
        "b=a\n",
        "print(a)\n",
        "print(b)"
      ],
      "execution_count": null,
      "outputs": [
        {
          "output_type": "stream",
          "text": [
            "Apple\n",
            "AppleBanana\n",
            "AppleBanana\n"
          ],
          "name": "stdout"
        }
      ]
    },
    {
      "cell_type": "code",
      "metadata": {
        "colab": {
          "base_uri": "https://localhost:8080/"
        },
        "id": "Th1nKp7OhZzJ",
        "outputId": "8dff81c4-972e-4b01-b679-1a4d3cfb265e"
      },
      "source": [
        "# 21\n",
        "# 運算子優先順序\n",
        "\n",
        "def calc(a,b,c,d):\n",
        "  value=(a-b)/c+d\n",
        "  return value\n",
        "print(calc(1,1,1,2))"
      ],
      "execution_count": null,
      "outputs": [
        {
          "output_type": "stream",
          "text": [
            "2.0\n"
          ],
          "name": "stdout"
        }
      ]
    },
    {
      "cell_type": "code",
      "metadata": {
        "id": "GzyR_30Qhfdb"
      },
      "source": [
        "# 22\n",
        "# 運算子優先順序 () > * > +- > / > + - > or"
      ],
      "execution_count": null,
      "outputs": []
    },
    {
      "cell_type": "code",
      "metadata": {
        "colab": {
          "base_uri": "https://localhost:8080/"
        },
        "id": "gyKCQ9k-hocB",
        "outputId": "e8c7e2a6-239b-41cb-a0eb-917b8e68788d"
      },
      "source": [
        "# 23\n",
        "# for迴圈與if判斷式\n",
        "\n",
        "def count_word(word, words_list):\n",
        "  count=0\n",
        "  for keyword in words_list:\n",
        "    if keyword == word:\n",
        "      count+=1\n",
        "  return count\n",
        "words_list=['i','am','a','boy','you','are','a','girl']\n",
        "word=input(\"你想要查詢哪個單字的數量?\")\n",
        "wtotal=count_word(word, words_list)\n",
        "print(\"在文章中一共有':\", wtotal,\"個單字\", word)"
      ],
      "execution_count": null,
      "outputs": [
        {
          "output_type": "stream",
          "text": [
            "你想要查詢哪個單字的數量?i\n",
            "在文章中一共有': 1 個單字 i\n"
          ],
          "name": "stdout"
        }
      ]
    },
    {
      "cell_type": "code",
      "metadata": {
        "colab": {
          "base_uri": "https://localhost:8080/"
        },
        "id": "oD52BwriiACP",
        "outputId": "069b18a6-036e-429a-f105-f598ced353b1"
      },
      "source": [
        "# 24\n",
        "# if判斷式應用\n",
        " \n",
        "ontime=input(\"機車是在晚上10點前返還的嗎? y或n:\").lower() #轉小寫\n",
        "days_rented = int(input(\"機車出租了幾天?\"))\n",
        "day_rented = input(\"機車是在星期幾出租的?\").capitalize() #首字大寫\n",
        "cost_per_day = 500\n",
        "if ontime == 'n':\n",
        "  days_rented += 1\n",
        "if day_rented == 'Wednesday':\n",
        "  total = (days_rented * cost_per_day) * 0.9\n",
        "if day_rented == 'Saturday':\n",
        "  total = (days_rented * cost_per_day) * 0.8\n",
        "print(\"機車的租借費用為:$\", total)"
      ],
      "execution_count": null,
      "outputs": [
        {
          "output_type": "stream",
          "text": [
            "機車是在晚上10點前返還的嗎? y或n:n\n",
            "機車出租了幾天?1\n",
            "機車是在星期幾出租的?Saturday\n",
            "機車的租借費用為:$ 800.0\n"
          ],
          "name": "stdout"
        }
      ]
    },
    {
      "cell_type": "code",
      "metadata": {
        "colab": {
          "base_uri": "https://localhost:8080/"
        },
        "id": "SM56ZXlfiXBX",
        "outputId": "7d6f8b85-7ec0-463f-a039-7435a8dcd797"
      },
      "source": [
        "# 25\n",
        "# if判斷式應用與None\n",
        "\n",
        "def do_times(n1,n2):\n",
        "  if (n1 is None or n2 is None):\n",
        "    return(\"你少填了被乘數或乘數\")\n",
        "  if (n1==0 or n2==0):\n",
        "    return(\"你的乘數或被乘數為0\")\n",
        "  else:\n",
        "    return n1*n2\n",
        "print(do_times(None,2))\n",
        "print(do_times(2,0))\n",
        "print(do_times(2,3))"
      ],
      "execution_count": null,
      "outputs": [
        {
          "output_type": "stream",
          "text": [
            "你少填了被乘數與乘數\n",
            "你的乘數或被乘數為0\n",
            "6\n"
          ],
          "name": "stdout"
        }
      ]
    },
    {
      "cell_type": "code",
      "metadata": {
        "colab": {
          "base_uri": "https://localhost:8080/"
        },
        "id": "AMwGo02RilE1",
        "outputId": "981c902f-7cf8-409b-d3e6-945a7ddd6a1b"
      },
      "source": [
        "# 26\n",
        "# 運算子應用\n",
        "\n",
        "a=21\n",
        "b=5\n",
        "print(a/b)\n",
        "print(a//b)\n",
        "print(a%b)"
      ],
      "execution_count": null,
      "outputs": [
        {
          "output_type": "stream",
          "text": [
            "4.2\n",
            "4\n",
            "1\n"
          ],
          "name": "stdout"
        }
      ]
    },
    {
      "cell_type": "code",
      "metadata": {
        "colab": {
          "base_uri": "https://localhost:8080/"
        },
        "id": "B8TnDgzIisqP",
        "outputId": "d981c5c7-54c7-4f31-cdcb-acf907a28dee"
      },
      "source": [
        "# 27\n",
        "# while迴圈應用\n",
        "\n",
        "x=0\n",
        "while x<4:\n",
        "  if x//3 == 1:\n",
        "    print(\"Apple\")\n",
        "  elif x-2 == 0:\n",
        "    print(\"Banana\")\n",
        "  elif x%3 == 0:\n",
        "    print(\"Cherry\")\n",
        "  else:\n",
        "    print(\"Fruit\")\n",
        "  x=x+1"
      ],
      "execution_count": null,
      "outputs": [
        {
          "output_type": "stream",
          "text": [
            "Cherry\n",
            "Fruit\n",
            "Banana\n",
            "Apple\n"
          ],
          "name": "stdout"
        }
      ]
    },
    {
      "cell_type": "code",
      "metadata": {
        "colab": {
          "base_uri": "https://localhost:8080/"
        },
        "id": "P4U8TPstiyMq",
        "outputId": "6ca1f061-0958-450e-cf8d-d47b7048e763"
      },
      "source": [
        "# 28\n",
        "# list應用\n",
        "\n",
        "slist = ['a','b','c','d','e','f']\n",
        "print('f' in slist)"
      ],
      "execution_count": null,
      "outputs": [
        {
          "output_type": "stream",
          "text": [
            "True\n"
          ],
          "name": "stdout"
        }
      ]
    },
    {
      "cell_type": "code",
      "metadata": {
        "colab": {
          "base_uri": "https://localhost:8080/"
        },
        "id": "jv62jcMsi1OP",
        "outputId": "d40ffece-379a-46fc-cc1a-cc258086cf2c"
      },
      "source": [
        "# 29\n",
        "# ==與is的應用\n",
        "\n",
        "aList = ['a','b','c','d','e']\n",
        "bList = [1,2,3,4,5]\n",
        "print(aList is bList)\n",
        "print(aList == bList)\n",
        "aList = [1,2,3,4,5]\n",
        "print(aList is bList)\n",
        "print(aList == bList)"
      ],
      "execution_count": null,
      "outputs": [
        {
          "output_type": "stream",
          "text": [
            "False\n",
            "False\n",
            "False\n",
            "True\n"
          ],
          "name": "stdout"
        }
      ]
    },
    {
      "cell_type": "code",
      "metadata": {
        "colab": {
          "base_uri": "https://localhost:8080/"
        },
        "id": "qFjWtQdoi4po",
        "outputId": "08d12065-68a2-4b78-f05a-a38b62368879"
      },
      "source": [
        "# 30\n",
        "# if判斷式,==與!=的應用\n",
        "\n",
        "num=eval(input(\"請輸入小於100, 大於或等於50的數字：\"))\n",
        "if num < 100:\n",
        "  if num >= 50:\n",
        "    if num == 50: #原來的=是指定值\n",
        "      print('數字等於50')\n",
        "    else:\n",
        "      print('數字在範圍內')\n",
        "  else:\n",
        "    print('數字小於50')\n",
        "elif num != 100: #原來的<>是錯的\n",
        "  print('數字大於100')\n",
        "else:\n",
        "  print('數字等於100')"
      ],
      "execution_count": null,
      "outputs": [
        {
          "output_type": "stream",
          "text": [
            "請輸入小於100, 大於或等於50的數字：90\n",
            "數字在範圍內\n"
          ],
          "name": "stdout"
        }
      ]
    },
    {
      "cell_type": "code",
      "metadata": {
        "colab": {
          "base_uri": "https://localhost:8080/"
        },
        "id": "GmrZmP0Gje6R",
        "outputId": "0af3f790-c95d-4868-e7b8-84d7a2535846"
      },
      "source": [
        "# 31\n",
        "# if elif else判斷式應用\n",
        "\n",
        "grade = int(input(\"請輸入分數：\"))\n",
        "if grade >= 90:\n",
        "  letter_grade = 'A'\n",
        "elif grade >= 80:\n",
        "  letter_grade = 'B'\n",
        "elif grade >= 70:\n",
        "  letter_grade = 'C'\n",
        "elif grade >= 60:\n",
        "  letter_grade = 'D'\n",
        "else:\n",
        "  letter_grade = 'E'\n",
        "print(\"你的等級為：\", letter_grade)"
      ],
      "execution_count": null,
      "outputs": [
        {
          "output_type": "stream",
          "text": [
            "請輸入分數：90\n",
            "你的等級為： A\n"
          ],
          "name": "stdout"
        }
      ]
    },
    {
      "cell_type": "code",
      "metadata": {
        "colab": {
          "base_uri": "https://localhost:8080/"
        },
        "id": "p02zU8FlLEkZ",
        "outputId": "c027f8ed-7c45-4fcf-934c-8fbe4b2f4829"
      },
      "source": [
        "# 32\n",
        "\n",
        "def get_fee(age):\n",
        "  fee=0\n",
        "  if age==None:\n",
        "    fee=0\n",
        "  elif age<13:\n",
        "    fee=299\n",
        "  elif age<18:\n",
        "    fee=499\n",
        "  else:\n",
        "    fee=699\n",
        "  return fee\n",
        "print(get_fee(None))\n",
        "print(get_fee(20))"
      ],
      "execution_count": null,
      "outputs": [
        {
          "output_type": "stream",
          "text": [
            "0\n",
            "699\n"
          ],
          "name": "stdout"
        }
      ]
    },
    {
      "cell_type": "code",
      "metadata": {
        "colab": {
          "base_uri": "https://localhost:8080/"
        },
        "id": "87uDQoqBjh6_",
        "outputId": "3ec17724-651f-40b0-995f-07bf8e7f0b8e"
      },
      "source": [
        "# 33\n",
        "# if判斷式,邏輯與縮牌位置應用\n",
        "\n",
        "def reResult(a):\n",
        "  if a>0:\n",
        "    answer=\"值是正數\"\n",
        "  else:\n",
        "    if a<0 :\n",
        "      answer=\"值是負數\"\n",
        "    else:\n",
        "      answer=\"值是零\"\n",
        "  return answer\n",
        "\n",
        "print(reResult(2))\n",
        "print(reResult(-2))\n",
        "print(reResult(0))"
      ],
      "execution_count": null,
      "outputs": [
        {
          "output_type": "stream",
          "text": [
            "值是正數\n",
            "值是負數\n",
            "值是零\n"
          ],
          "name": "stdout"
        }
      ]
    },
    {
      "cell_type": "code",
      "metadata": {
        "colab": {
          "base_uri": "https://localhost:8080/"
        },
        "id": "FXcLzV3ljlu8",
        "outputId": "e97d08cc-915f-4b59-8a29-3156b3d38643"
      },
      "source": [
        "# 34\n",
        "# if判斷式應用\n",
        "\n",
        "def ticket_fee(age,school):\n",
        "  fee=0\n",
        "  if age>=5 and school==True:\n",
        "    fee=150\n",
        "  if age>=5 and school==False:\n",
        "    if age <= 17:\n",
        "      fee=200\n",
        "    else:\n",
        "      fee=300\n",
        "  return fee\n",
        "\n",
        "print(ticket_fee(3, False))\n",
        "print(ticket_fee(10, True))\n",
        "print(ticket_fee(10, False))\n",
        "print(ticket_fee(20, False))"
      ],
      "execution_count": null,
      "outputs": [
        {
          "output_type": "stream",
          "text": [
            "0\n",
            "150\n",
            "200\n",
            "300\n"
          ],
          "name": "stdout"
        }
      ]
    },
    {
      "cell_type": "code",
      "metadata": {
        "colab": {
          "base_uri": "https://localhost:8080/"
        },
        "id": "IU-dIL8YjoHp",
        "outputId": "8d7df02c-02fe-4c5b-fbcf-7d3d423cf859"
      },
      "source": [
        "# 35\n",
        "# if判斷式應用\n",
        "\n",
        "def is_digit(n):\n",
        "  try:\n",
        "    int(n)\n",
        "    return True\n",
        "  except ValueError:\n",
        "    return False\n",
        "num=input(\"請輸入一個正整數:\")\n",
        "if is_digit(num) and int(num)>0:\n",
        "  num=int(eval(num))\n",
        "  if num<10:\n",
        "    digits=\"1\"\n",
        "  elif num<100:\n",
        "    digits=\"2\"\n",
        "  else:\n",
        "    digits=\">2\"\n",
        "  print(digits + \"位數\")\n",
        "else:\n",
        "  print(\"輸入值並不是數值或正整數\")"
      ],
      "execution_count": null,
      "outputs": [
        {
          "output_type": "stream",
          "text": [
            "請輸入一個正整數:10\n",
            "2位數\n"
          ],
          "name": "stdout"
        }
      ]
    },
    {
      "cell_type": "code",
      "metadata": {
        "colab": {
          "base_uri": "https://localhost:8080/"
        },
        "id": "JLrYynl8jqH2",
        "outputId": "c529d8c6-93bf-4ac8-9112-6ca20028a955"
      },
      "source": [
        "# 36\n",
        "# for迴圈應用與break, contine\n",
        "\n",
        "from random import randint\n",
        "answer=randint(1,100) #1~99\n",
        "print(\"猜一個從1到100的整數.你將有3次機會.\")\n",
        "print(answer)\n",
        "for i in range(3):\n",
        "  guess=int(input(\"請輸入一個整數：\"))\n",
        "  if guess > answer:\n",
        "    print(\"數字太大了，猜低一點\")\n",
        "  elif guess < answer:\n",
        "    print(\"數字太小了，猜高一點\")\n",
        "  else:\n",
        "    print(\"猜對了!\")\n",
        "print(\"終極密碼是\", answer)"
      ],
      "execution_count": null,
      "outputs": [
        {
          "output_type": "stream",
          "text": [
            "猜一個從1到100的整數.你將有3次機會.\n",
            "96\n",
            "請輸入一個整數：10\n",
            "數字太小了，猜高一點\n",
            "請輸入一個整數：96\n",
            "猜對了!\n",
            "請輸入一個整數：96\n",
            "猜對了!\n",
            "終極密碼是 96\n"
          ],
          "name": "stdout"
        }
      ]
    },
    {
      "cell_type": "code",
      "metadata": {
        "colab": {
          "base_uri": "https://localhost:8080/"
        },
        "id": "6fIZZxz2jsJH",
        "outputId": "17dd5395-d7eb-4c72-d87a-809c817b3c68"
      },
      "source": [
        "# 37\n",
        "# if判斷式應用\n",
        "\n",
        "from random import randint\n",
        "num=randint(1,100)\n",
        "if num % 2 == 0:\n",
        "  print(\"%d是偶數\" % num) # %後填入要在字串顯示的值\n",
        "else:\n",
        "  print(\"%d是奇數\" % num)"
      ],
      "execution_count": null,
      "outputs": [
        {
          "output_type": "stream",
          "text": [
            "45是奇數\n"
          ],
          "name": "stdout"
        }
      ]
    },
    {
      "cell_type": "code",
      "metadata": {
        "colab": {
          "base_uri": "https://localhost:8080/"
        },
        "id": "17j92d3VjuBt",
        "outputId": "8845231f-60ee-4c1f-d102-506dcc354e57"
      },
      "source": [
        "# 38\n",
        "# 程式結構重組\n",
        "\n",
        "en_name=input(\"請輸入英文姓名：\")\n",
        "if en_name.upper() == en_name:\n",
        "  print(en_name, \"是全部大寫.\")\n",
        "elif en_name.lower() == en_name:\n",
        "  print(en_name, \"是全部小寫.\")\n",
        "else:\n",
        "  print(en_name, \"是大小寫混合.\")"
      ],
      "execution_count": null,
      "outputs": [
        {
          "output_type": "stream",
          "text": [
            "請輸入英文姓名：jocker\n",
            "jocker 是全部小寫.\n"
          ],
          "name": "stdout"
        }
      ]
    },
    {
      "cell_type": "code",
      "metadata": {
        "colab": {
          "base_uri": "https://localhost:8080/"
        },
        "id": "ujP0JwO3jwLV",
        "outputId": "e7d827bb-8ad6-4fa9-d4ef-f67013ae2ef6"
      },
      "source": [
        "# 39\n",
        "# for迴圈與continue\n",
        "\n",
        "salaryList=[10000, 24000, 30000, 5000, 14000]\n",
        "for index in range(len(salaryList)): #答案有錯\n",
        "  if salaryList[index]>15000:\n",
        "    continue #continue直接進入下一個迴圈，不執行接下來的命令\n",
        "  salaryList[index]=18000+2000\n",
        "print(salaryList)"
      ],
      "execution_count": null,
      "outputs": [
        {
          "output_type": "stream",
          "text": [
            "[20000, 24000, 30000, 20000, 20000]\n"
          ],
          "name": "stdout"
        }
      ]
    },
    {
      "cell_type": "code",
      "metadata": {
        "colab": {
          "base_uri": "https://localhost:8080/"
        },
        "id": "glvkfeyLjwz0",
        "outputId": "3c2ddb0b-dd6c-4541-abeb-2a47d3da76b2"
      },
      "source": [
        "# 40\n",
        "# range應用，答案選項有錯誤\n",
        "\n",
        "def show_99(): \n",
        "  for x in range(1,10):\n",
        "    for y in range(1,10):\n",
        "      print(\"{}*{}={}\".format(x,y,x*y))\n",
        "    print() #空白行\n",
        "show_99()"
      ],
      "execution_count": null,
      "outputs": [
        {
          "output_type": "stream",
          "text": [
            "1*1=1\n",
            "1*2=2\n",
            "1*3=3\n",
            "1*4=4\n",
            "1*5=5\n",
            "1*6=6\n",
            "1*7=7\n",
            "1*8=8\n",
            "1*9=9\n",
            "\n",
            "2*1=2\n",
            "2*2=4\n",
            "2*3=6\n",
            "2*4=8\n",
            "2*5=10\n",
            "2*6=12\n",
            "2*7=14\n",
            "2*8=16\n",
            "2*9=18\n",
            "\n",
            "3*1=3\n",
            "3*2=6\n",
            "3*3=9\n",
            "3*4=12\n",
            "3*5=15\n",
            "3*6=18\n",
            "3*7=21\n",
            "3*8=24\n",
            "3*9=27\n",
            "\n",
            "4*1=4\n",
            "4*2=8\n",
            "4*3=12\n",
            "4*4=16\n",
            "4*5=20\n",
            "4*6=24\n",
            "4*7=28\n",
            "4*8=32\n",
            "4*9=36\n",
            "\n",
            "5*1=5\n",
            "5*2=10\n",
            "5*3=15\n",
            "5*4=20\n",
            "5*5=25\n",
            "5*6=30\n",
            "5*7=35\n",
            "5*8=40\n",
            "5*9=45\n",
            "\n",
            "6*1=6\n",
            "6*2=12\n",
            "6*3=18\n",
            "6*4=24\n",
            "6*5=30\n",
            "6*6=36\n",
            "6*7=42\n",
            "6*8=48\n",
            "6*9=54\n",
            "\n",
            "7*1=7\n",
            "7*2=14\n",
            "7*3=21\n",
            "7*4=28\n",
            "7*5=35\n",
            "7*6=42\n",
            "7*7=49\n",
            "7*8=56\n",
            "7*9=63\n",
            "\n",
            "8*1=8\n",
            "8*2=16\n",
            "8*3=24\n",
            "8*4=32\n",
            "8*5=40\n",
            "8*6=48\n",
            "8*7=56\n",
            "8*8=64\n",
            "8*9=72\n",
            "\n",
            "9*1=9\n",
            "9*2=18\n",
            "9*3=27\n",
            "9*4=36\n",
            "9*5=45\n",
            "9*6=54\n",
            "9*7=63\n",
            "9*8=72\n",
            "9*9=81\n",
            "\n"
          ],
          "name": "stdout"
        }
      ]
    },
    {
      "cell_type": "code",
      "metadata": {
        "colab": {
          "base_uri": "https://localhost:8080/"
        },
        "id": "oYT64hdlleuZ",
        "outputId": "3151536e-18c5-45ba-edae-0f1d05145173"
      },
      "source": [
        "# 41\n",
        "# 程式結構重組\n",
        "\n",
        "n=2\n",
        "while n<=50:\n",
        "  is_prime=True\n",
        "  for i in range(2,n):\n",
        "    if n % i ==0:\n",
        "      is_prime=False\n",
        "      break\n",
        "  if is_prime==True:\n",
        "    print(n) #p是錯誤的\n",
        "  n+=1"
      ],
      "execution_count": null,
      "outputs": [
        {
          "output_type": "stream",
          "text": [
            "2\n",
            "3\n",
            "5\n",
            "7\n",
            "11\n",
            "13\n",
            "17\n",
            "19\n",
            "23\n",
            "29\n",
            "31\n",
            "37\n",
            "41\n",
            "43\n",
            "47\n"
          ],
          "name": "stdout"
        }
      ]
    },
    {
      "cell_type": "code",
      "metadata": {
        "colab": {
          "base_uri": "https://localhost:8080/"
        },
        "id": "-b2q5T2Ylnd6",
        "outputId": "a368308b-36a6-40a7-d2a3-e49a48d0e842"
      },
      "source": [
        "# 42\n",
        "# 程式結構重組\n",
        "\n",
        "def Whoisbigger(numberList, number): #少了def\n",
        "  for i in range(len(numberList)):\n",
        "    if numberList[i] > number:\n",
        "      print(\"{0}清單中找到比{1}大的值\".format(numberList,number))\n",
        "      break\n",
        "    else:\n",
        "      print(\"{0}清單中找不到比{1}大的值\".format(numberList,number))\n",
        "Whoisbigger([1,2,3,4,5,6], 3)"
      ],
      "execution_count": null,
      "outputs": [
        {
          "output_type": "stream",
          "text": [
            "[1, 2, 3, 4, 5, 6]清單中找不到比3大的值\n",
            "[1, 2, 3, 4, 5, 6]清單中找不到比3大的值\n",
            "[1, 2, 3, 4, 5, 6]清單中找不到比3大的值\n",
            "[1, 2, 3, 4, 5, 6]清單中找到比3大的值\n"
          ],
          "name": "stdout"
        }
      ]
    },
    {
      "cell_type": "code",
      "metadata": {
        "colab": {
          "base_uri": "https://localhost:8080/"
        },
        "id": "WHKyIci9lp5o",
        "outputId": "550a722c-ed40-4c48-be2d-18cd25de45af"
      },
      "source": [
        "# 43\n",
        "# while迴圈應用\n",
        "\n",
        "p_no=\"flag\" #第一次進入while使用，任何非空值之字串皆可以\n",
        "group=\"\"\n",
        "while p_no != \"\": #不輸入值即可跳開\n",
        "  valid=False\n",
        "  p_no=input(\"請輸入產品編號(dddd-dd):\")\n",
        "  group=p_no.split('-')\n",
        "  if len(group)==2: #group被-分開成2群\n",
        "    if len(group[0])==4 and len(group[1])==2:\n",
        "      if group[0].isdigit() and group[1].isdigit():\n",
        "        valid=True\n",
        "  print(valid)"
      ],
      "execution_count": null,
      "outputs": [
        {
          "output_type": "stream",
          "text": [
            "請輸入產品編號(dddd-dd):aaaa-11\n",
            "False\n",
            "請輸入產品編號(dddd-dd):1111-aa\n",
            "False\n",
            "請輸入產品編號(dddd-dd):1111-dd\n",
            "False\n",
            "請輸入產品編號(dddd-dd):dddd-dd\n",
            "False\n",
            "請輸入產品編號(dddd-dd):dddd-11\n",
            "False\n",
            "請輸入產品編號(dddd-dd):1111-11\n",
            "True\n",
            "請輸入產品編號(dddd-dd):\n",
            "False\n"
          ],
          "name": "stdout"
        }
      ]
    },
    {
      "cell_type": "code",
      "metadata": {
        "colab": {
          "base_uri": "https://localhost:8080/"
        },
        "id": "GcLzlE3rlrio",
        "outputId": "996d6257-ffc8-4bc5-95fb-65930ab31545"
      },
      "source": [
        "# 44\n",
        "# while迴圈應用\n",
        "\n",
        "numList=range(10) #[0,1,2,3,4,5,6,7,8,9]\n",
        "num=0\n",
        "while (num<10):\n",
        "  print(numList[num])\n",
        "  if numList[num] == 8:\n",
        "    break\n",
        "  else:\n",
        "    num +=1"
      ],
      "execution_count": null,
      "outputs": [
        {
          "output_type": "stream",
          "text": [
            "0\n",
            "1\n",
            "2\n",
            "3\n",
            "4\n",
            "5\n",
            "6\n",
            "7\n",
            "8\n"
          ],
          "name": "stdout"
        }
      ]
    },
    {
      "cell_type": "code",
      "metadata": {
        "colab": {
          "base_uri": "https://localhost:8080/"
        },
        "id": "ttIZCWJqltg_",
        "outputId": "81669d43-88b2-4ebe-d6ea-892e2d258873"
      },
      "source": [
        "# 45\n",
        "# os開檔、寫檔\n",
        "\n",
        "import os\n",
        "if os.path.isfile('usefile.txt'):\n",
        "  file=open('usefile.txt')\n",
        "  print(file.read())\n",
        "  file.close()\n",
        "else: #題目少了這一行\n",
        "  file=open('usefile.txt','a') #a是新增檔案, a+是附加檔案\n",
        "  file.write('這是檔尾')\n",
        "  file.close"
      ],
      "execution_count": null,
      "outputs": [
        {
          "output_type": "stream",
          "text": [
            "這是檔尾\n"
          ],
          "name": "stdout"
        }
      ]
    },
    {
      "cell_type": "code",
      "metadata": {
        "colab": {
          "base_uri": "https://localhost:8080/",
          "height": 35
        },
        "id": "JZ8W_teUlvPr",
        "outputId": "a97cb7e2-9e6c-4c56-cdaa-9bc91ad2fcbc"
      },
      "source": [
        "# 46\n",
        "# os開檔\n",
        "\n",
        "import os\n",
        "def get_file_content(usefile):\n",
        "  if os.path.isfile(usefile):\n",
        "    with open(usefile, 'r') as file:\n",
        "      return file.read() #題目usefle.read()是錯誤的\n",
        "  else:\n",
        "    return \"檔案不存在\"\n",
        "\n",
        "get_file_content(\"usefile.txt\")"
      ],
      "execution_count": null,
      "outputs": [
        {
          "output_type": "execute_result",
          "data": {
            "application/vnd.google.colaboratory.intrinsic+json": {
              "type": "string"
            },
            "text/plain": [
              "'這是檔尾'"
            ]
          },
          "metadata": {
            "tags": []
          },
          "execution_count": 71
        }
      ]
    },
    {
      "cell_type": "code",
      "metadata": {
        "id": "i1nj9Kj8lw2q"
      },
      "source": [
        "# 47\n",
        "# 開檔屬性應用 \n",
        "# r:讀取, a:附加, w:寫入\n",
        "# r+:除了讀取，還有寫入功能，檔案不存在會回傳error\n",
        "# a+:除了附加,還有讀取功能\n",
        "# w+:除了寫入,還有讀取功能,和r+不同處在於檔案不存在會新增一個檔"
      ],
      "execution_count": null,
      "outputs": []
    },
    {
      "cell_type": "code",
      "metadata": {
        "colab": {
          "base_uri": "https://localhost:8080/"
        },
        "id": "uEHQlVPPl1wd",
        "outputId": "122ef594-3459-4bc9-94b4-a0cc65895720"
      },
      "source": [
        "# 48\n",
        "# 開檔讀資料，需新增一個staffs.txt檔案\n",
        "\n",
        "import os #題目忘了這行\n",
        "staffs = open(\"staffs.txt\", 'r')\n",
        "eof=False\n",
        "while eof==False:\n",
        "  line=staffs.readline()\n",
        "  if line != '':\n",
        "    if line != \"\\n\":\n",
        "      print(line.strip()) #strip()去除頭尾空白\n",
        "  else:\n",
        "    print(\"檔案結束\")\n",
        "    eof=True\n",
        "staffs.close()"
      ],
      "execution_count": null,
      "outputs": [
        {
          "output_type": "stream",
          "text": [
            "'Sales', 1, 'John'\n",
            "'Sales', 2, 'Mary'\n",
            "檔案結束\n"
          ],
          "name": "stdout"
        }
      ]
    },
    {
      "cell_type": "code",
      "metadata": {
        "id": "tdSUMS-Ml4fP",
        "colab": {
          "base_uri": "https://localhost:8080/"
        },
        "outputId": "599473de-c1ae-4f28-8bcd-b9e438932c8d"
      },
      "source": [
        "# 49\n",
        "# input與格式應用\n",
        "\n",
        "star=star_count=star_done=0\n",
        "star_average=0.0\n",
        "while (star_done!=-1):\n",
        "  star_rating=float(input(\"請輸入評等(1-5),完成請輸入-1：\")) #題目star拼錯\n",
        "  if star_rating == -1:\n",
        "    break\n",
        "  star += star_rating\n",
        "  star_count += 1\n",
        "star_average = float(star/star_count)\n",
        "print(\"餐廳的平均星等是：{}\".format(star_average, '.2f')) #少了{},format少了一個."
      ],
      "execution_count": null,
      "outputs": [
        {
          "output_type": "stream",
          "text": [
            "請輸入評等(1-5),完成請輸入-1：5\n",
            "請輸入評等(1-5),完成請輸入-1：4\n",
            "請輸入評等(1-5),完成請輸入-1：3\n",
            "請輸入評等(1-5),完成請輸入-1：4\n",
            "請輸入評等(1-5),完成請輸入-1：5\n",
            "請輸入評等(1-5),完成請輸入-1：-1\n",
            "餐廳的平均星等是：4.2\n"
          ],
          "name": "stdout"
        }
      ]
    },
    {
      "cell_type": "code",
      "metadata": {
        "id": "i-9CsU_Ll70g",
        "colab": {
          "base_uri": "https://localhost:8080/"
        },
        "outputId": "47d574da-71af-43c5-f71e-0a8fb43fb581"
      },
      "source": [
        "# 50\n",
        "# datetime fomat格式應用\n",
        "# %a : 星期縮寫 　　　　　(Mon)\n",
        "# %A : 星期全寫 　　　　　(Monday)\n",
        "# %w : 星期數字 　　　　　(0 … 6)\n",
        "# %d : 日期 　　　　　　　(01 … 31)\n",
        "# %b : 月份縮寫 　　　　　(Jan)\n",
        "# %B : 月份全寫 　　　　　(January)\n",
        "# %m : 月份數字 　　　　　(01 … 12)\n",
        "# %y : 西元年二位數字 　　(00 … 99)\n",
        "# %Y : 西元年 　　　　　　(1970 … 2018)\n",
        "# %H : 24小時制 　　　　　(00 … 23)\n",
        "# %I : 12小時制 　　　　　(01 … 12)\n",
        "# %p : AM 或 PM\n",
        "# %M : 分 　　　　　　　　(00 … 59)\n",
        "# %S : 秒 　　　　　　　　(00 … 59)\n",
        "# %f : 微秒，六位數字 　　(000000 … 999999)\n",
        "# %c : 日期和時間 　　　　(Tue Aug 16 21:30:00 2017)\n",
        "# %x : 日期 　　　　　　　(08/16/2017)\n",
        "# %X : 時間 　　　　　　　(21:30:00)\n",
        "\n",
        "import datetime\n",
        "data=datetime.datetime(2019,5,16)\n",
        "print(data)\n",
        "print('{:%y-%m-%d}'.format(data)) #%y兩位數 %Y四位數 \n",
        "num=12345.6789\n",
        "print('{:,.2f}'.format(num)) # :特殊格式化符號 ,三位數加一個逗號 .2f:兩位小數點"
      ],
      "execution_count": null,
      "outputs": [
        {
          "output_type": "stream",
          "text": [
            "2019-05-16 00:00:00\n",
            "19-05-16\n",
            "12,345.68\n"
          ],
          "name": "stdout"
        }
      ]
    },
    {
      "cell_type": "code",
      "metadata": {
        "id": "6jPhuD4amA9U",
        "colab": {
          "base_uri": "https://localhost:8080/"
        },
        "outputId": "63de7120-4fbd-4854-f4b1-16cb5aa26025"
      },
      "source": [
        "# 51\n",
        "# 列印格式化\n",
        "\n",
        "name=input(\"請輸入姓名：\")\n",
        "sum=score=count=0\n",
        "while (score != -1):\n",
        "  score=int(input(\"輸入你的分數(輸入-1結束程式：\"))\n",
        "  if score == -1:\n",
        "    break\n",
        "  sum += score\n",
        "  count += 1\n",
        "average=sum/count\n",
        "print(\"%-10s, 你的平均分數是: %7.3f\" %(name,average)) \n",
        "# 正號(+)靠右對齊,負號(-)靠左對期,10s代表字串長度最長為10,7.3f代表總寬度是7,整數位數是3,小數點是1,小數點後位數是3"
      ],
      "execution_count": null,
      "outputs": [
        {
          "output_type": "stream",
          "text": [
            "請輸入姓名：amy\n",
            "輸入你的分數(輸入-1結束程式：100\n",
            "輸入你的分數(輸入-1結束程式：90\n",
            "輸入你的分數(輸入-1結束程式：80\n",
            "輸入你的分數(輸入-1結束程式：-1\n",
            "amy       , 你的平均分數是:  90.000\n"
          ],
          "name": "stdout"
        }
      ]
    },
    {
      "cell_type": "code",
      "metadata": {
        "id": "I5hdeOQnsEIV"
      },
      "source": [
        "# 52\n",
        "# 開檔列印格式化\n",
        "# 需新增staffs.txt,資料用,分開\n",
        "\n",
        "import os #少了這行\n",
        "def print_cartable(file):\n",
        "  data=open(file,'r')\n",
        "  for record in data:\n",
        "    fields=record.split(\",\")\n",
        "    print(\"{0:10} {1:5.1f} {2:7.2f}\".format(fields[0], eval(fields[1]),eval(fields[2]))) #0,1,2代表後面哪一筆資料\n",
        "    print_cartable(\"staffs.txt\")"
      ],
      "execution_count": null,
      "outputs": []
    },
    {
      "cell_type": "code",
      "metadata": {
        "colab": {
          "base_uri": "https://localhost:8080/"
        },
        "id": "5RUKtSYrsGGy",
        "outputId": "73cc0648-00a1-49d4-9768-5ec00643479b"
      },
      "source": [
        "# 53\n",
        "# 列印格式化\n",
        "\n",
        "p_name=input(\"輸入名稱：\")\n",
        "p_qty=input(\"輸入數量：\")\n",
        "print('\"{0}\",{1}'.format(p_name,p_qty)) #format寫法\n",
        "print('\"'+ p_name + '\",' + p_qty) #字串相加+\n",
        "print('\"%s\",%s' % (p_name, p_qty)) #舊式%寫法\n",
        "print(\"{0},{1}\".format(p_name,p_qty)) #少了\""
      ],
      "execution_count": null,
      "outputs": [
        {
          "output_type": "stream",
          "text": [
            "輸入名稱：apple\n",
            "輸入數量：1\n",
            "\"apple\",1\n",
            "\"apple\",1\n",
            "\"apple\",1\n",
            "apple,1\n"
          ],
          "name": "stdout"
        }
      ]
    },
    {
      "cell_type": "code",
      "metadata": {
        "id": "wqsztn3isI71",
        "colab": {
          "base_uri": "https://localhost:8080/"
        },
        "outputId": "d44958e4-baca-4fdc-f321-1af16b68be40"
      },
      "source": [
        "# 54\n",
        "# input應用\n",
        "\n",
        "print(\"請輸入年齡：\")\n",
        "user_age=input()\n",
        "print(user_age)"
      ],
      "execution_count": null,
      "outputs": [
        {
          "output_type": "stream",
          "text": [
            "請輸入年齡：\n",
            "21\n",
            "21\n"
          ],
          "name": "stdout"
        }
      ]
    },
    {
      "cell_type": "code",
      "metadata": {
        "id": "QOjDV3WxsT4h"
      },
      "source": [
        "# 55\n",
        "\n",
        "def get_pname():\n",
        "  #顯示商品名稱\n",
        "  return pname"
      ],
      "execution_count": null,
      "outputs": []
    },
    {
      "cell_type": "code",
      "metadata": {
        "id": "rnGCDjgMsWCq"
      },
      "source": [
        "# 56\n",
        "# 註解#"
      ],
      "execution_count": null,
      "outputs": []
    },
    {
      "cell_type": "code",
      "metadata": {
        "id": "8fFCcyHZsepR"
      },
      "source": [
        "# 57\n",
        "# 字串內的#號\n",
        "# calc_times函式計算二數乘積\n",
        "# x是被乘數\n",
        "# y是乘數\n",
        "# 返回x*y的值\n",
        "\n",
        "def cal_times(x,y):\n",
        "  comment=\"#返回值\"  #前面的#會被當作字串\n",
        "  return x*y  #x*y"
      ],
      "execution_count": null,
      "outputs": []
    },
    {
      "cell_type": "code",
      "metadata": {
        "id": "I-o20Whxshuu",
        "colab": {
          "base_uri": "https://localhost:8080/"
        },
        "outputId": "352ae5c5-54a4-4810-dd41-f3d51648345b"
      },
      "source": [
        "# 58\n",
        "# 函式應用\n",
        "\n",
        "def get_name():\n",
        "  name=input(\"請輸入你的姓名：\")\n",
        "  return name\n",
        "def calc_calories(km,cpk):\n",
        "  calories=km*cpk\n",
        "  return calories\n",
        "distance = int(input(\"請問你騎了幾公里?\"))\n",
        "burn_rate=50\n",
        "biker=get_name()\n",
        "calories_burned=calc_calories(distance, burn_rate)\n",
        "print(biker,\",你燃燒了大約\", calories_burned,\"卡路里\")"
      ],
      "execution_count": null,
      "outputs": [
        {
          "output_type": "stream",
          "text": [
            "請問你騎了幾公里?14\n",
            "請輸入你的姓名：amy\n",
            "amy ,你燃燒了大約 700 卡路里\n"
          ],
          "name": "stdout"
        }
      ]
    },
    {
      "cell_type": "code",
      "metadata": {
        "id": "raVjE8pPsiKK",
        "colab": {
          "base_uri": "https://localhost:8080/"
        },
        "outputId": "ccbfe7b0-2798-4a9e-fa0c-6f8a746b1fb8"
      },
      "source": [
        "# 59\n",
        "# 參數預設值應用\n",
        "\n",
        "def calc_score(total, double, scores=1):\n",
        "  if double==True:\n",
        "    scores=scores*2\n",
        "  total=total+scores\n",
        "  return total\n",
        "scores=5\n",
        "total=10\n",
        "new_score=calc_score(total, True, scores)\n",
        "print(new_score)\n",
        "new_score=calc_score(total,True)\n",
        "print(new_score)"
      ],
      "execution_count": null,
      "outputs": [
        {
          "output_type": "stream",
          "text": [
            "20\n",
            "12\n"
          ],
          "name": "stdout"
        }
      ]
    },
    {
      "cell_type": "code",
      "metadata": {
        "id": "rc--sZDisj1X",
        "colab": {
          "base_uri": "https://localhost:8080/"
        },
        "outputId": "1eaecfed-4b86-418d-8d13-3e77cb9df8b3"
      },
      "source": [
        "# 60\n",
        "# 函式應用\n",
        "\n",
        "def add_score(current, value):\n",
        "  current += value\n",
        "  return current\n",
        "print(add_score(80,10))"
      ],
      "execution_count": null,
      "outputs": [
        {
          "output_type": "stream",
          "text": [
            "90\n"
          ],
          "name": "stdout"
        }
      ]
    },
    {
      "cell_type": "code",
      "metadata": {
        "id": "VlsZeai5slfn",
        "colab": {
          "base_uri": "https://localhost:8080/"
        },
        "outputId": "364af154-9d5b-445e-ea55-ab78d19e6721"
      },
      "source": [
        "# 61\n",
        "# try except應用\n",
        "\n",
        "try: \n",
        "  file1=open(\"file1.txt\", 'r') #開檔案來讀取\n",
        "  file2=open(\"file2.txt\", 'w+') #開檔案來寫入，若存在則覆蓋 \n",
        "except IOError:\n",
        "  print(\"檔案不存在\")\n",
        "else:\n",
        "  i=1\n",
        "  for line in file1:\n",
        "    print(line.rstrip())\n",
        "    file2.write(\"line \" + str(i) + \":\" + line)\n",
        "    i=i+1\n",
        "  file1.close()\n",
        "  file2.close()"
      ],
      "execution_count": null,
      "outputs": [
        {
          "output_type": "stream",
          "text": [
            "檔案不存在\n"
          ],
          "name": "stdout"
        }
      ]
    },
    {
      "cell_type": "code",
      "metadata": {
        "id": "bhlz4C3csnIq",
        "colab": {
          "base_uri": "https://localhost:8080/",
          "height": 133
        },
        "outputId": "c1d13bdf-afb7-4edc-c588-858fe3d138bd"
      },
      "source": [
        "# 62\n",
        "# 錯誤偵錯\n",
        "\n",
        "import math\n",
        "#default motion for car\n",
        "go = True\n",
        "move = 0\n",
        "while(go):\n",
        "  if move == 0: #原始沒有縮排\n",
        "  go_dist = math.pi / move #會產生除以0的錯誤\n",
        "  move += 5\n",
        "else:\n",
        "  go_dist =0\n",
        "  move = 0"
      ],
      "execution_count": null,
      "outputs": [
        {
          "output_type": "error",
          "ename": "IndentationError",
          "evalue": "ignored",
          "traceback": [
            "\u001b[0;36m  File \u001b[0;32m\"<ipython-input-150-3f749e033407>\"\u001b[0;36m, line \u001b[0;32m10\u001b[0m\n\u001b[0;31m    go_dist = math.pi / move #會產生除以0的錯誤\u001b[0m\n\u001b[0m          ^\u001b[0m\n\u001b[0;31mIndentationError\u001b[0m\u001b[0;31m:\u001b[0m expected an indented block\n"
          ]
        }
      ]
    },
    {
      "cell_type": "code",
      "metadata": {
        "id": "bY-oZoHnsolZ",
        "colab": {
          "base_uri": "https://localhost:8080/"
        },
        "outputId": "62d056b0-00dd-49a1-9473-d30522f05c8b"
      },
      "source": [
        "# 63\n",
        "# range函式與//應用\n",
        "\n",
        "scores=[90,80,82,76]\n",
        "count=0\n",
        "sum=0\n",
        "for index in range(0, len(scores)): #range函式(起始點,不包含終止點)\n",
        "  count += 1\n",
        "  sum += scores[index]\n",
        "average = sum / count #//是求餘數,/才是除法\n",
        "print(\"總計分數是：\",sum)\n",
        "print(\"平均分數是：\", average)"
      ],
      "execution_count": null,
      "outputs": [
        {
          "output_type": "stream",
          "text": [
            "總計分數是： 328\n",
            "平均分數是： 82.0\n"
          ],
          "name": "stdout"
        }
      ]
    },
    {
      "cell_type": "code",
      "metadata": {
        "id": "s4ulxX8qsqK0",
        "colab": {
          "base_uri": "https://localhost:8080/"
        },
        "outputId": "d0eaeea6-7315-4936-8055-c0f0cabce9ca"
      },
      "source": [
        "# 64\n",
        "# 縮排應用\n",
        "# 準備usefile.txt\n",
        "\n",
        "import os\n",
        "def read_filename(file):\n",
        "  line= None\n",
        "  if os.path.isfile(file):\n",
        "    readfile = open(file, 'r')\n",
        "    while line != '':  #此處應該縮排\n",
        "      line=readfile.readline() #此處應該縮排\n",
        "      print(line)       #此處應該縮排  \n",
        "read_filename(\"usefile.txt\")"
      ],
      "execution_count": null,
      "outputs": [
        {
          "output_type": "stream",
          "text": [
            "test1\n",
            "\n",
            "\n",
            "\n",
            "test2\n",
            "\n",
            "\n",
            "\n",
            "\n",
            "\n",
            "\n",
            "\n",
            "test3 \n",
            "\n",
            "\n"
          ],
          "name": "stdout"
        }
      ]
    },
    {
      "cell_type": "code",
      "metadata": {
        "id": "O0XJ-WqKsyut",
        "colab": {
          "base_uri": "https://localhost:8080/"
        },
        "outputId": "71665458-751f-4afb-ffd1-c223c377a6f6"
      },
      "source": [
        "# 65\n",
        "# list使用方式為[], 以及:應用\n",
        "\n",
        "nList = range(10)\n",
        "no = 0\n",
        "while (no<10): #少了:\n",
        "  print(nList[no])\n",
        "  if nList[no] == 5: #nlist(no)改成nList[no], =改成==, 少了:\n",
        "    break\n",
        "  else:\n",
        "    no += 3"
      ],
      "execution_count": null,
      "outputs": [
        {
          "output_type": "stream",
          "text": [
            "0\n",
            "3\n",
            "6\n",
            "9\n"
          ],
          "name": "stdout"
        }
      ]
    },
    {
      "cell_type": "code",
      "metadata": {
        "id": "1yQiTQOXs2BR"
      },
      "source": [
        "# 66\n",
        "# try except finally應用\n",
        "# try:\n",
        "#   運算式\n",
        "# except 錯誤情況1:\n",
        "#   處理方式1\n",
        "# except 錯誤情況2:\n",
        "#   處理方式2\n",
        "#   ...\n",
        "# finally:\n",
        "#   一定會執行到的命令"
      ],
      "execution_count": null,
      "outputs": []
    },
    {
      "cell_type": "code",
      "metadata": {
        "id": "qSm_XOWqs4F7",
        "colab": {
          "base_uri": "https://localhost:8080/",
          "height": 694
        },
        "outputId": "e0b159cc-da73-4bd7-c1c9-bc8c506e0708"
      },
      "source": [
        "# 67\n",
        "# try except錯誤處理\n",
        "\n",
        "while True:\n",
        "  try:\n",
        "    x=int(input(\"請輸入一個被除數：\"))\n",
        "    y=int(input(\"請輸入一個除數：\"))\n",
        "    result = x / y\n",
        "  except ZeroDivisionError:\n",
        "    print(\"除數不能為零，再試一次...\")\n",
        "  else:\n",
        "    print(result)"
      ],
      "execution_count": null,
      "outputs": [
        {
          "output_type": "stream",
          "text": [
            "請輸入一個被除數：10\n",
            "請輸入一個除數：3\n",
            "3.3333333333333335\n",
            "請輸入一個被除數：10\n",
            "請輸入一個除數：0\n",
            "除數不能為零，再試一次...\n",
            "請輸入一個被除數：9\n",
            "請輸入一個除數：3\n",
            "3.0\n"
          ],
          "name": "stdout"
        },
        {
          "output_type": "error",
          "ename": "KeyboardInterrupt",
          "evalue": "ignored",
          "traceback": [
            "\u001b[0;31m---------------------------------------------------------------------------\u001b[0m",
            "\u001b[0;31mKeyboardInterrupt\u001b[0m                         Traceback (most recent call last)",
            "\u001b[0;32m/usr/local/lib/python3.7/dist-packages/ipykernel/kernelbase.py\u001b[0m in \u001b[0;36m_input_request\u001b[0;34m(self, prompt, ident, parent, password)\u001b[0m\n\u001b[1;32m    728\u001b[0m             \u001b[0;32mtry\u001b[0m\u001b[0;34m:\u001b[0m\u001b[0;34m\u001b[0m\u001b[0;34m\u001b[0m\u001b[0m\n\u001b[0;32m--> 729\u001b[0;31m                 \u001b[0mident\u001b[0m\u001b[0;34m,\u001b[0m \u001b[0mreply\u001b[0m \u001b[0;34m=\u001b[0m \u001b[0mself\u001b[0m\u001b[0;34m.\u001b[0m\u001b[0msession\u001b[0m\u001b[0;34m.\u001b[0m\u001b[0mrecv\u001b[0m\u001b[0;34m(\u001b[0m\u001b[0mself\u001b[0m\u001b[0;34m.\u001b[0m\u001b[0mstdin_socket\u001b[0m\u001b[0;34m,\u001b[0m \u001b[0;36m0\u001b[0m\u001b[0;34m)\u001b[0m\u001b[0;34m\u001b[0m\u001b[0;34m\u001b[0m\u001b[0m\n\u001b[0m\u001b[1;32m    730\u001b[0m             \u001b[0;32mexcept\u001b[0m \u001b[0mException\u001b[0m\u001b[0;34m:\u001b[0m\u001b[0;34m\u001b[0m\u001b[0;34m\u001b[0m\u001b[0m\n",
            "\u001b[0;32m/usr/local/lib/python3.7/dist-packages/jupyter_client/session.py\u001b[0m in \u001b[0;36mrecv\u001b[0;34m(self, socket, mode, content, copy)\u001b[0m\n\u001b[1;32m    802\u001b[0m         \u001b[0;32mtry\u001b[0m\u001b[0;34m:\u001b[0m\u001b[0;34m\u001b[0m\u001b[0;34m\u001b[0m\u001b[0m\n\u001b[0;32m--> 803\u001b[0;31m             \u001b[0mmsg_list\u001b[0m \u001b[0;34m=\u001b[0m \u001b[0msocket\u001b[0m\u001b[0;34m.\u001b[0m\u001b[0mrecv_multipart\u001b[0m\u001b[0;34m(\u001b[0m\u001b[0mmode\u001b[0m\u001b[0;34m,\u001b[0m \u001b[0mcopy\u001b[0m\u001b[0;34m=\u001b[0m\u001b[0mcopy\u001b[0m\u001b[0;34m)\u001b[0m\u001b[0;34m\u001b[0m\u001b[0;34m\u001b[0m\u001b[0m\n\u001b[0m\u001b[1;32m    804\u001b[0m         \u001b[0;32mexcept\u001b[0m \u001b[0mzmq\u001b[0m\u001b[0;34m.\u001b[0m\u001b[0mZMQError\u001b[0m \u001b[0;32mas\u001b[0m \u001b[0me\u001b[0m\u001b[0;34m:\u001b[0m\u001b[0;34m\u001b[0m\u001b[0;34m\u001b[0m\u001b[0m\n",
            "\u001b[0;32m/usr/local/lib/python3.7/dist-packages/zmq/sugar/socket.py\u001b[0m in \u001b[0;36mrecv_multipart\u001b[0;34m(self, flags, copy, track)\u001b[0m\n\u001b[1;32m    582\u001b[0m         \"\"\"\n\u001b[0;32m--> 583\u001b[0;31m         \u001b[0mparts\u001b[0m \u001b[0;34m=\u001b[0m \u001b[0;34m[\u001b[0m\u001b[0mself\u001b[0m\u001b[0;34m.\u001b[0m\u001b[0mrecv\u001b[0m\u001b[0;34m(\u001b[0m\u001b[0mflags\u001b[0m\u001b[0;34m,\u001b[0m \u001b[0mcopy\u001b[0m\u001b[0;34m=\u001b[0m\u001b[0mcopy\u001b[0m\u001b[0;34m,\u001b[0m \u001b[0mtrack\u001b[0m\u001b[0;34m=\u001b[0m\u001b[0mtrack\u001b[0m\u001b[0;34m)\u001b[0m\u001b[0;34m]\u001b[0m\u001b[0;34m\u001b[0m\u001b[0;34m\u001b[0m\u001b[0m\n\u001b[0m\u001b[1;32m    584\u001b[0m         \u001b[0;31m# have first part already, only loop while more to receive\u001b[0m\u001b[0;34m\u001b[0m\u001b[0;34m\u001b[0m\u001b[0;34m\u001b[0m\u001b[0m\n",
            "\u001b[0;32mzmq/backend/cython/socket.pyx\u001b[0m in \u001b[0;36mzmq.backend.cython.socket.Socket.recv\u001b[0;34m()\u001b[0m\n",
            "\u001b[0;32mzmq/backend/cython/socket.pyx\u001b[0m in \u001b[0;36mzmq.backend.cython.socket.Socket.recv\u001b[0;34m()\u001b[0m\n",
            "\u001b[0;32mzmq/backend/cython/socket.pyx\u001b[0m in \u001b[0;36mzmq.backend.cython.socket._recv_copy\u001b[0;34m()\u001b[0m\n",
            "\u001b[0;32m/usr/local/lib/python3.7/dist-packages/zmq/backend/cython/checkrc.pxd\u001b[0m in \u001b[0;36mzmq.backend.cython.checkrc._check_rc\u001b[0;34m()\u001b[0m\n",
            "\u001b[0;31mKeyboardInterrupt\u001b[0m: ",
            "\nDuring handling of the above exception, another exception occurred:\n",
            "\u001b[0;31mKeyboardInterrupt\u001b[0m                         Traceback (most recent call last)",
            "\u001b[0;32m<ipython-input-160-dcbd5c731b24>\u001b[0m in \u001b[0;36m<module>\u001b[0;34m()\u001b[0m\n\u001b[1;32m      4\u001b[0m \u001b[0;32mwhile\u001b[0m \u001b[0;32mTrue\u001b[0m\u001b[0;34m:\u001b[0m\u001b[0;34m\u001b[0m\u001b[0;34m\u001b[0m\u001b[0m\n\u001b[1;32m      5\u001b[0m   \u001b[0;32mtry\u001b[0m\u001b[0;34m:\u001b[0m\u001b[0;34m\u001b[0m\u001b[0;34m\u001b[0m\u001b[0m\n\u001b[0;32m----> 6\u001b[0;31m     \u001b[0mx\u001b[0m\u001b[0;34m=\u001b[0m\u001b[0mint\u001b[0m\u001b[0;34m(\u001b[0m\u001b[0minput\u001b[0m\u001b[0;34m(\u001b[0m\u001b[0;34m\"請輸入一個被除數：\"\u001b[0m\u001b[0;34m)\u001b[0m\u001b[0;34m)\u001b[0m\u001b[0;34m\u001b[0m\u001b[0;34m\u001b[0m\u001b[0m\n\u001b[0m\u001b[1;32m      7\u001b[0m     \u001b[0my\u001b[0m\u001b[0;34m=\u001b[0m\u001b[0mint\u001b[0m\u001b[0;34m(\u001b[0m\u001b[0minput\u001b[0m\u001b[0;34m(\u001b[0m\u001b[0;34m\"請輸入一個除數：\"\u001b[0m\u001b[0;34m)\u001b[0m\u001b[0;34m)\u001b[0m\u001b[0;34m\u001b[0m\u001b[0;34m\u001b[0m\u001b[0m\n\u001b[1;32m      8\u001b[0m     \u001b[0mresult\u001b[0m \u001b[0;34m=\u001b[0m \u001b[0mx\u001b[0m \u001b[0;34m/\u001b[0m \u001b[0my\u001b[0m\u001b[0;34m\u001b[0m\u001b[0;34m\u001b[0m\u001b[0m\n",
            "\u001b[0;32m/usr/local/lib/python3.7/dist-packages/ipykernel/kernelbase.py\u001b[0m in \u001b[0;36mraw_input\u001b[0;34m(self, prompt)\u001b[0m\n\u001b[1;32m    702\u001b[0m             \u001b[0mself\u001b[0m\u001b[0;34m.\u001b[0m\u001b[0m_parent_ident\u001b[0m\u001b[0;34m,\u001b[0m\u001b[0;34m\u001b[0m\u001b[0;34m\u001b[0m\u001b[0m\n\u001b[1;32m    703\u001b[0m             \u001b[0mself\u001b[0m\u001b[0;34m.\u001b[0m\u001b[0m_parent_header\u001b[0m\u001b[0;34m,\u001b[0m\u001b[0;34m\u001b[0m\u001b[0;34m\u001b[0m\u001b[0m\n\u001b[0;32m--> 704\u001b[0;31m             \u001b[0mpassword\u001b[0m\u001b[0;34m=\u001b[0m\u001b[0;32mFalse\u001b[0m\u001b[0;34m,\u001b[0m\u001b[0;34m\u001b[0m\u001b[0;34m\u001b[0m\u001b[0m\n\u001b[0m\u001b[1;32m    705\u001b[0m         )\n\u001b[1;32m    706\u001b[0m \u001b[0;34m\u001b[0m\u001b[0m\n",
            "\u001b[0;32m/usr/local/lib/python3.7/dist-packages/ipykernel/kernelbase.py\u001b[0m in \u001b[0;36m_input_request\u001b[0;34m(self, prompt, ident, parent, password)\u001b[0m\n\u001b[1;32m    732\u001b[0m             \u001b[0;32mexcept\u001b[0m \u001b[0mKeyboardInterrupt\u001b[0m\u001b[0;34m:\u001b[0m\u001b[0;34m\u001b[0m\u001b[0;34m\u001b[0m\u001b[0m\n\u001b[1;32m    733\u001b[0m                 \u001b[0;31m# re-raise KeyboardInterrupt, to truncate traceback\u001b[0m\u001b[0;34m\u001b[0m\u001b[0;34m\u001b[0m\u001b[0;34m\u001b[0m\u001b[0m\n\u001b[0;32m--> 734\u001b[0;31m                 \u001b[0;32mraise\u001b[0m \u001b[0mKeyboardInterrupt\u001b[0m\u001b[0;34m\u001b[0m\u001b[0;34m\u001b[0m\u001b[0m\n\u001b[0m\u001b[1;32m    735\u001b[0m             \u001b[0;32melse\u001b[0m\u001b[0;34m:\u001b[0m\u001b[0;34m\u001b[0m\u001b[0;34m\u001b[0m\u001b[0m\n\u001b[1;32m    736\u001b[0m                 \u001b[0;32mbreak\u001b[0m\u001b[0;34m\u001b[0m\u001b[0;34m\u001b[0m\u001b[0m\n",
            "\u001b[0;31mKeyboardInterrupt\u001b[0m: "
          ]
        }
      ]
    },
    {
      "cell_type": "code",
      "metadata": {
        "id": "r-8oQej_s4ux"
      },
      "source": [
        "# 68\n",
        "# import as應用\n",
        "\n",
        "from random import randint as rt"
      ],
      "execution_count": null,
      "outputs": []
    },
    {
      "cell_type": "code",
      "metadata": {
        "id": "qt-vU3HQs7KH",
        "colab": {
          "base_uri": "https://localhost:8080/"
        },
        "outputId": "c4e584af-79c9-4801-ffde-6c2974e1aeed"
      },
      "source": [
        "# 69\n",
        "# os函式應用\n",
        "\n",
        "import os\n",
        "def print_file(filename):\n",
        "  line=None\n",
        "  if os.path.isfile(filename): #檔案存在是isfile函式,不存在isexit\n",
        "    data = open(filename, 'r')\n",
        "    for line in data:\n",
        "      print(line)\n",
        "print_file('usefile.txt')"
      ],
      "execution_count": null,
      "outputs": [
        {
          "output_type": "stream",
          "text": [
            "test1\n",
            "\n",
            "\n",
            "\n",
            "test2\n",
            "\n",
            "\n",
            "\n",
            "\n",
            "\n",
            "\n",
            "\n",
            "test3 \n",
            "\n"
          ],
          "name": "stdout"
        }
      ]
    },
    {
      "cell_type": "code",
      "metadata": {
        "id": "R6AQ04UTs8nC",
        "colab": {
          "base_uri": "https://localhost:8080/"
        },
        "outputId": "7ba0d34a-e969-4850-b45b-af3766be75b2"
      },
      "source": [
        "# 70\n",
        "# random套件應用\n",
        "\n",
        "# random.randrange(a, b, c)\n",
        "# 返回開區間[a,b),間隔c之數字\n",
        "\n",
        "# random.randint(a, b)\n",
        "# 返回閉區間[a, b]範圍内的整数值\n",
        "\n",
        "# numpy.random.randint(a, b)\n",
        "# 返回開區間[a, b)範圍内的整数值\n",
        "\n",
        "import random\n",
        "data=random.randrange(1,11,1) #包含1不包含11,產生1個隨機數字\n",
        "print(data)\n",
        "data=random.randint(1,10) #包含1~10的隨機數字\n",
        "print(data)"
      ],
      "execution_count": null,
      "outputs": [
        {
          "output_type": "stream",
          "text": [
            "9\n",
            "3\n"
          ],
          "name": "stdout"
        }
      ]
    },
    {
      "cell_type": "code",
      "metadata": {
        "id": "KTiiBPURs-Zj",
        "colab": {
          "base_uri": "https://localhost:8080/"
        },
        "outputId": "88cb5ba4-82ff-4efd-ec19-44eb2acdce1a"
      },
      "source": [
        "# 71\n",
        "# random函式應用\n",
        "\n",
        "import random\n",
        "print(random.random())"
      ],
      "execution_count": null,
      "outputs": [
        {
          "output_type": "stream",
          "text": [
            "0.4415387263425854\n"
          ],
          "name": "stdout"
        }
      ]
    },
    {
      "cell_type": "code",
      "metadata": {
        "id": "CiAqR6ods_25",
        "colab": {
          "base_uri": "https://localhost:8080/"
        },
        "outputId": "7f5d6193-5be0-4954-f6fc-739b558c951a"
      },
      "source": [
        "# 72\n",
        "# random套件應用\n",
        "\n",
        "from random import randint\n",
        "print(randint(0,10)*5)\n",
        "from random import randrange\n",
        "print(randrange(0,51,5))"
      ],
      "execution_count": null,
      "outputs": [
        {
          "output_type": "stream",
          "text": [
            "20\n",
            "35\n"
          ],
          "name": "stdout"
        }
      ]
    },
    {
      "cell_type": "code",
      "metadata": {
        "id": "2P4NNpg-tByw",
        "colab": {
          "base_uri": "https://localhost:8080/"
        },
        "outputId": "06af3290-39ef-4303-adc2-3ebc1dda137a"
      },
      "source": [
        "# 73\n",
        "# math套件應用\n",
        "\n",
        "import math\n",
        "x=-5.33\n",
        "x=math.fabs(x) #取絕對值\n",
        "print(x)\n",
        "x=math.floor(x) #低於x且最接近的整數\n",
        "print(x)"
      ],
      "execution_count": null,
      "outputs": [
        {
          "output_type": "stream",
          "text": [
            "5.33\n",
            "5\n"
          ],
          "name": "stdout"
        }
      ]
    }
  ]
}